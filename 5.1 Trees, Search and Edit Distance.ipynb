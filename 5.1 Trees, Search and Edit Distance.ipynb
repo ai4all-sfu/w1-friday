{
 "cells": [
  {
   "cell_type": "markdown",
   "metadata": {},
   "source": [
    "# Edit Distance"
   ]
  },
  {
   "cell_type": "markdown",
   "metadata": {},
   "source": [
    "## What is the distance between these two strings? \n",
    "\n",
    "This is useful to be able to compare two strings, whether it's for natural language processing or bioinformatics.\n",
    "\n",
    "Let's say we want to classify a sequence of DNA as either human or rat. \n",
    "\n",
    "How can we do that?\n",
    "If you represent their DNA in a sequence like ACTGAGTC... then you could give a hypothesis: **this sequence is more similar to a rat's DNA than a human's!**"
   ]
  },
  {
   "cell_type": "markdown",
   "metadata": {},
   "source": [
    "## Levenschtein Distance\n",
    "\n",
    "This gives you the \"edit distance\", the number of insertions/deletions/substitutions required to make the strings match! The higher the number, the more different the two strings are! \n",
    "\n",
    "The following algorithm to calculate the edit distance (aka Levenschtein Distance) uses **recursion**, which can be quite difficult to understand, but you will learn in 1st year Computer Science."
   ]
  },
  {
   "cell_type": "code",
   "execution_count": null,
   "metadata": {},
   "outputs": [],
   "source": [
    "s1 = \"ABAGTCA\" \n",
    "s2 = \"ABAGTDD\"\n",
    "\n",
    "def lev(a, b):\n",
    "    if not a: return len(b)  # Base case\n",
    "    if not b: return len(a)  # Base case\n",
    "    return min(  lev(a[1:],b[1:])+(a[0]!=b[0]), lev(a[1:],b)+1, lev(a,b[1:])+1)  # Recursion on substring\n",
    "\n",
    "print lev(s1, s2)"
   ]
  },
  {
   "cell_type": "markdown",
   "metadata": {},
   "source": [
    "## Exercise\n",
    "    \n",
    "Can you change the two strings and check if the edit distance seems reasonable to you?"
   ]
  },
  {
   "cell_type": "markdown",
   "metadata": {},
   "source": [
    "# Trees and Searching\n",
    "\n",
    "Let's say we want an underwater robot to explore a network of caves, looking for the treasure.\n",
    "\n",
    "It would need to have a map of all the caverns (we call them **nodes**) and all the possible connections from cavern to cavern. What's your strategy for searching all the caverns?\n",
    "\n",
    "First, you might model the caverns as a **tree** (see image below), branching off deeper and deeper. Then, you could use a spiffy **search algorithm** that ensures that you visit every cavern!\n",
    "\n",
    "Note: If the cavern connections loop back on themselves, we call it a **graph** instead of tree.\n",
    "\n",
    "# Depth-First Search\n",
    "\n",
    "In this algorithm, you would search by going all the way to the end (deepest first), then back-tracking to explore another branching as deep as possible. \n",
    "\n",
    "![caption](img/tree.png)"
   ]
  },
  {
   "cell_type": "code",
   "execution_count": null,
   "metadata": {},
   "outputs": [],
   "source": [
    "# The dictionary data structure\n",
    "cave_map = {1: [2, 3], \n",
    "            2: [5, 6],\n",
    "            3: [4], \n",
    "            4: [], \n",
    "            5: [],\n",
    "            6: [7], \n",
    "            7: []}\n",
    "\n",
    "def dfs(tree, start_node):\n",
    "    visited = [] # Initialize empty visited array\n",
    "    left_to_visit = [] # Initialize empty stack\n",
    "    left_to_visit.append(start_node) # Add our starting node to the stack\n",
    "    \n",
    "    while len(left_to_visit) > 0: # While we still have nodes left to visit...\n",
    "        current_node = left_to_visit.pop() # Take out the top node\n",
    "        print(current_node)\n",
    "        if current_node not in visited: # If we haven't visited this node yet\n",
    "            visited.append(current_node) # then now mark it as visited\n",
    "            for vertex in tree[current_node]: # Add all the neighbors of this current node to the stack\n",
    "                if vertex not in visited:\n",
    "                    left_to_visit.append(vertex)\n",
    "\n",
    "dfs(cave_map,1)"
   ]
  },
  {
   "cell_type": "markdown",
   "metadata": {},
   "source": [
    "## Practice\n",
    "\n",
    "1. Draw out a depth-first-search traversal of cave_map on paper. Does the order in which you visit the nodes match the numbers printed above?  \n",
    "\n",
    "2. Call the DFS function on another starting node (not 1)."
   ]
  },
  {
   "cell_type": "code",
   "execution_count": null,
   "metadata": {},
   "outputs": [],
   "source": []
  },
  {
   "cell_type": "markdown",
   "metadata": {},
   "source": [
    "## Breadth-First Search\n",
    "\n",
    "Or, you can check each cave, depth-by-depth, to avoid needlessly going deeply."
   ]
  },
  {
   "cell_type": "markdown",
   "metadata": {},
   "source": [
    "![caption](img/tree.png)"
   ]
  },
  {
   "cell_type": "code",
   "execution_count": null,
   "metadata": {},
   "outputs": [],
   "source": [
    "# Let us now use BFS to traverse my_graph!\n",
    "import Queue\n",
    "\n",
    "def bfs(tree, start_node):\n",
    "\n",
    "    visited = [] # Empty visited array\n",
    "    queue = Queue.Queue()\n",
    "    queue.put(start_node)\n",
    "\n",
    "    while queue.qsize() > 0:\n",
    "        current_node = queue.get() # This removes the node from the left, so first in, first out\n",
    "        print(current_node)\n",
    "        for node in tree[current_node]: # Iterate through current_node's neighbors\n",
    "            if node not in visited: # If we haven't seen one of current_node's neighbors yet...\n",
    "                visited.append(node) # Put it into visited\n",
    "                queue.put(node) # Put the newest node into the front of the queue\n",
    "\n",
    "bfs(cave_map, 1)"
   ]
  },
  {
   "cell_type": "markdown",
   "metadata": {},
   "source": [
    "## Practice\n",
    "\n",
    "1. Draw out a breadth-first-search traversal of cave_map on paper. Does the order in which you visit the nodes match the numbers printed above?  \n",
    "\n",
    "2. Call the BFS function on another starting node (not 1)."
   ]
  },
  {
   "cell_type": "code",
   "execution_count": null,
   "metadata": {},
   "outputs": [],
   "source": []
  }
 ],
 "metadata": {
  "kernelspec": {
   "display_name": "Python 2",
   "language": "python",
   "name": "python2"
  },
  "language_info": {
   "codemirror_mode": {
    "name": "ipython",
    "version": 2
   },
   "file_extension": ".py",
   "mimetype": "text/x-python",
   "name": "python",
   "nbconvert_exporter": "python",
   "pygments_lexer": "ipython2",
   "version": "2.7.15"
  }
 },
 "nbformat": 4,
 "nbformat_minor": 2
}
